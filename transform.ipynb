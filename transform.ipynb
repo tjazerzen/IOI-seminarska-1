{
 "cells": [
  {
   "cell_type": "code",
   "execution_count": 17,
   "metadata": {},
   "outputs": [
    {
     "data": {
      "text/html": [
       "<div>\n",
       "<style scoped>\n",
       "    .dataframe tbody tr th:only-of-type {\n",
       "        vertical-align: middle;\n",
       "    }\n",
       "\n",
       "    .dataframe tbody tr th {\n",
       "        vertical-align: top;\n",
       "    }\n",
       "\n",
       "    .dataframe thead th {\n",
       "        text-align: right;\n",
       "    }\n",
       "</style>\n",
       "<table border=\"1\" class=\"dataframe\">\n",
       "  <thead>\n",
       "    <tr style=\"text-align: right;\">\n",
       "      <th></th>\n",
       "      <th>Region</th>\n",
       "      <th>Year</th>\n",
       "      <th>Sex</th>\n",
       "      <th>GDP</th>\n",
       "      <th>time_away_days</th>\n",
       "    </tr>\n",
       "  </thead>\n",
       "  <tbody>\n",
       "    <tr>\n",
       "      <th>0</th>\n",
       "      <td>SLOVENIJA</td>\n",
       "      <td>2005</td>\n",
       "      <td>Total</td>\n",
       "      <td>14.551</td>\n",
       "      <td>17.2</td>\n",
       "    </tr>\n",
       "    <tr>\n",
       "      <th>1</th>\n",
       "      <td>SLOVENIJA</td>\n",
       "      <td>2005</td>\n",
       "      <td>Male</td>\n",
       "      <td>14.551</td>\n",
       "      <td>13.2</td>\n",
       "    </tr>\n",
       "    <tr>\n",
       "      <th>2</th>\n",
       "      <td>SLOVENIJA</td>\n",
       "      <td>2005</td>\n",
       "      <td>Female</td>\n",
       "      <td>14.551</td>\n",
       "      <td>19.7</td>\n",
       "    </tr>\n",
       "    <tr>\n",
       "      <th>3</th>\n",
       "      <td>Pomurska</td>\n",
       "      <td>2005</td>\n",
       "      <td>Total</td>\n",
       "      <td>9.673</td>\n",
       "      <td>15.0</td>\n",
       "    </tr>\n",
       "    <tr>\n",
       "      <th>4</th>\n",
       "      <td>Pomurska</td>\n",
       "      <td>2005</td>\n",
       "      <td>Male</td>\n",
       "      <td>9.673</td>\n",
       "      <td>13.6</td>\n",
       "    </tr>\n",
       "  </tbody>\n",
       "</table>\n",
       "</div>"
      ],
      "text/plain": [
       "      Region  Year     Sex     GDP  time_away_days\n",
       "0  SLOVENIJA  2005   Total  14.551            17.2\n",
       "1  SLOVENIJA  2005    Male  14.551            13.2\n",
       "2  SLOVENIJA  2005  Female  14.551            19.7\n",
       "3   Pomurska  2005   Total   9.673            15.0\n",
       "4   Pomurska  2005    Male   9.673            13.6"
      ]
     },
     "execution_count": 17,
     "metadata": {},
     "output_type": "execute_result"
    }
   ],
   "source": [
    "import pandas as pd\n",
    "import numpy as np\n",
    "\n",
    "df = pd.read_csv('tmp.csv')\n",
    "df.head()"
   ]
  },
  {
   "cell_type": "code",
   "execution_count": 18,
   "metadata": {},
   "outputs": [],
   "source": [
    "df_male = df[df['Sex'] == 'Male' ]\n",
    "df_female = df[df['Sex'] == 'Female' ]\n",
    "df_total = df[df['Sex'] == 'Total' ]"
   ]
  },
  {
   "cell_type": "code",
   "execution_count": 19,
   "metadata": {},
   "outputs": [
    {
     "name": "stderr",
     "output_type": "stream",
     "text": [
      "/var/folders/pd/s74qyrkd2211zy6clmt1fvg80000gn/T/ipykernel_21620/3039541720.py:1: SettingWithCopyWarning: \n",
      "A value is trying to be set on a copy of a slice from a DataFrame.\n",
      "Try using .loc[row_indexer,col_indexer] = value instead\n",
      "\n",
      "See the caveats in the documentation: https://pandas.pydata.org/pandas-docs/stable/user_guide/indexing.html#returning-a-view-versus-a-copy\n",
      "  df_male['GDP'] = df_male['GDP'] * (1 + np.random.uniform(0, 0.2, len(df_male)))\n",
      "/var/folders/pd/s74qyrkd2211zy6clmt1fvg80000gn/T/ipykernel_21620/3039541720.py:2: SettingWithCopyWarning: \n",
      "A value is trying to be set on a copy of a slice from a DataFrame.\n",
      "Try using .loc[row_indexer,col_indexer] = value instead\n",
      "\n",
      "See the caveats in the documentation: https://pandas.pydata.org/pandas-docs/stable/user_guide/indexing.html#returning-a-view-versus-a-copy\n",
      "  df_female['GDP'] = df_female['GDP'] * (1 + np.random.uniform(-0.2, 0, len(df_female)))\n",
      "/var/folders/pd/s74qyrkd2211zy6clmt1fvg80000gn/T/ipykernel_21620/3039541720.py:3: SettingWithCopyWarning: \n",
      "A value is trying to be set on a copy of a slice from a DataFrame.\n",
      "Try using .loc[row_indexer,col_indexer] = value instead\n",
      "\n",
      "See the caveats in the documentation: https://pandas.pydata.org/pandas-docs/stable/user_guide/indexing.html#returning-a-view-versus-a-copy\n",
      "  df_total['GDP'] = df_total['GDP'] * (1 + np.random.uniform(-0.1, 0.1, len(df_total)))\n"
     ]
    }
   ],
   "source": [
    "df_male['GDP'] = df_male['GDP'] * (1 + np.random.uniform(0, 0.2, len(df_male)))\n",
    "df_female['GDP'] = df_female['GDP'] * (1 + np.random.uniform(-0.2, 0, len(df_female)))\n",
    "df_total['GDP'] = df_total['GDP'] * (1 + np.random.uniform(-0.1, 0.1, len(df_total)))"
   ]
  },
  {
   "cell_type": "code",
   "execution_count": 20,
   "metadata": {},
   "outputs": [
    {
     "name": "stderr",
     "output_type": "stream",
     "text": [
      "/var/folders/pd/s74qyrkd2211zy6clmt1fvg80000gn/T/ipykernel_21620/4067207283.py:1: SettingWithCopyWarning: \n",
      "A value is trying to be set on a copy of a slice from a DataFrame.\n",
      "Try using .loc[row_indexer,col_indexer] = value instead\n",
      "\n",
      "See the caveats in the documentation: https://pandas.pydata.org/pandas-docs/stable/user_guide/indexing.html#returning-a-view-versus-a-copy\n",
      "  df_male['time_away_days'] = df_male['time_away_days'] * (1 + np.random.uniform(-0.2, 0, len(df_male)))\n",
      "/var/folders/pd/s74qyrkd2211zy6clmt1fvg80000gn/T/ipykernel_21620/4067207283.py:2: SettingWithCopyWarning: \n",
      "A value is trying to be set on a copy of a slice from a DataFrame.\n",
      "Try using .loc[row_indexer,col_indexer] = value instead\n",
      "\n",
      "See the caveats in the documentation: https://pandas.pydata.org/pandas-docs/stable/user_guide/indexing.html#returning-a-view-versus-a-copy\n",
      "  df_female['time_away_days'] = df_female['time_away_days'] * (1 + np.random.uniform(0, 0.2, len(df_female)))\n",
      "/var/folders/pd/s74qyrkd2211zy6clmt1fvg80000gn/T/ipykernel_21620/4067207283.py:3: SettingWithCopyWarning: \n",
      "A value is trying to be set on a copy of a slice from a DataFrame.\n",
      "Try using .loc[row_indexer,col_indexer] = value instead\n",
      "\n",
      "See the caveats in the documentation: https://pandas.pydata.org/pandas-docs/stable/user_guide/indexing.html#returning-a-view-versus-a-copy\n",
      "  df_total['time_away_days'] = df_total['time_away_days'] * (1 + np.random.uniform(-0.1, 0.1, len(df_total)))\n"
     ]
    }
   ],
   "source": [
    "df_male['time_away_days'] = df_male['time_away_days'] * (1 + np.random.uniform(-0.2, 0, len(df_male)))\n",
    "df_female['time_away_days'] = df_female['time_away_days'] * (1 + np.random.uniform(0, 0.2, len(df_female)))\n",
    "df_total['time_away_days'] = df_total['time_away_days'] * (1 + np.random.uniform(-0.1, 0.1, len(df_total)))\n"
   ]
  },
  {
   "cell_type": "code",
   "execution_count": 21,
   "metadata": {},
   "outputs": [],
   "source": [
    "# now stack these dataframes one on top of the other\n",
    "\n",
    "df_stacked = pd.concat([df_male, df_female, df_total], axis=0)\n",
    "\n",
    "df_stacked['GDP'] = df_stacked['GDP'].round(1)\n",
    "df_stacked['time_away_days'] = df_stacked['time_away_days'].round(1)\n",
    "\n",
    "# write df_stacked to csv\n",
    "\n",
    "df_stacked.to_csv('tmp_update.csv', index=False)"
   ]
  },
  {
   "cell_type": "code",
   "execution_count": 2,
   "metadata": {},
   "outputs": [],
   "source": [
    "import pandas as pd\n",
    "\n",
    "# Define the columns to extract\n",
    "columns_to_extract = ['alcohol', 'volatile acidity', 'sulphates', 'quality']\n",
    "\n",
    "# Read the original CSV file\n",
    "df = pd.read_csv('wine-quality-dataset.csv')\n",
    "\n",
    "# Select the specified columns\n",
    "df_selected = df[columns_to_extract]\n",
    "\n",
    "# Save the selected columns to a new CSV file\n",
    "df_selected.to_csv('wine-quality-dataset-updated.csv', index=False)\n"
   ]
  },
  {
   "cell_type": "code",
   "execution_count": null,
   "metadata": {},
   "outputs": [],
   "source": []
  }
 ],
 "metadata": {
  "kernelspec": {
   "display_name": "Python 3",
   "language": "python",
   "name": "python3"
  },
  "language_info": {
   "codemirror_mode": {
    "name": "ipython",
    "version": 3
   },
   "file_extension": ".py",
   "mimetype": "text/x-python",
   "name": "python",
   "nbconvert_exporter": "python",
   "pygments_lexer": "ipython3",
   "version": "3.11.3"
  }
 },
 "nbformat": 4,
 "nbformat_minor": 2
}
